{
 "cells": [
  {
   "cell_type": "code",
   "execution_count": 2,
   "id": "7476cab7-9099-42ef-bc13-bf14e764b524",
   "metadata": {},
   "outputs": [
    {
     "name": "stdout",
     "output_type": "stream",
     "text": [
      "hello world\n"
     ]
    }
   ],
   "source": [
    "# print statement\n",
    "\n",
    "print(\"hello world\")"
   ]
  },
  {
   "cell_type": "code",
   "execution_count": 4,
   "id": "d10f7984-f9ff-4e85-835b-111271734cfb",
   "metadata": {},
   "outputs": [
    {
     "name": "stdout",
     "output_type": "stream",
     "text": [
      "hello world\n"
     ]
    }
   ],
   "source": [
    "print ('hello world')"
   ]
  },
  {
   "cell_type": "code",
   "execution_count": 8,
   "id": "94f3c961-b890-43c2-b325-fbe3f4f5380d",
   "metadata": {},
   "outputs": [],
   "source": [
    "#if statements\n",
    "\n",
    "if 5<2:\n",
    "    print (\"hello world!\")"
   ]
  },
  {
   "cell_type": "code",
   "execution_count": 10,
   "id": "c18afcd5-94fc-48ba-960a-0640776e44a0",
   "metadata": {},
   "outputs": [
    {
     "data": {
      "text/plain": [
       "16"
      ]
     },
     "execution_count": 10,
     "metadata": {},
     "output_type": "execute_result"
    }
   ],
   "source": [
    "2*5+6"
   ]
  },
  {
   "cell_type": "code",
   "execution_count": 14,
   "id": "4b98a6d6-7eb9-4af7-ba3e-8e28ae21b349",
   "metadata": {},
   "outputs": [],
   "source": [
    "list1 = ['apple', '3', 'banana']"
   ]
  },
  {
   "cell_type": "code",
   "execution_count": 16,
   "id": "c63293ef-3767-4709-a55f-db11787a3e09",
   "metadata": {},
   "outputs": [
    {
     "name": "stdout",
     "output_type": "stream",
     "text": [
      "['apple', '3', 'banana']\n"
     ]
    }
   ],
   "source": [
    "print (list1)"
   ]
  },
  {
   "cell_type": "code",
   "execution_count": 18,
   "id": "50d7343a-bd3c-41b2-85a1-f411cfe7d1ba",
   "metadata": {},
   "outputs": [
    {
     "data": {
      "text/plain": [
       "'banana'"
      ]
     },
     "execution_count": 18,
     "metadata": {},
     "output_type": "execute_result"
    }
   ],
   "source": [
    "list1[2]"
   ]
  },
  {
   "cell_type": "code",
   "execution_count": null,
   "id": "7c5c6e23-98b4-4fef-9d45-669902c7d105",
   "metadata": {},
   "outputs": [],
   "source": []
  }
 ],
 "metadata": {
  "kernelspec": {
   "display_name": "Python [conda env:base] *",
   "language": "python",
   "name": "conda-base-py"
  },
  "language_info": {
   "codemirror_mode": {
    "name": "ipython",
    "version": 3
   },
   "file_extension": ".py",
   "mimetype": "text/x-python",
   "name": "python",
   "nbconvert_exporter": "python",
   "pygments_lexer": "ipython3",
   "version": "3.12.7"
  }
 },
 "nbformat": 4,
 "nbformat_minor": 5
}
